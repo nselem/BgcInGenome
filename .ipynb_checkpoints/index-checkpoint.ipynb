{
 "cells": [
  {
   "cell_type": "markdown",
   "metadata": {},
   "source": [
    "# Finding a functional roll in a slding window across a BGC"
   ]
  },
  {
   "cell_type": "markdown",
   "metadata": {},
   "source": [
    "## 1. Datafiles required\n",
    "In this tutorial we will use the following file:  \n",
    " I.`mibig_prot_seqs_2.0.fasta` a fasta file of the MIBiG database.    \n",
    " II.`antibiotics-metadata.tsv` a tab-separated file with MIBiG metadata.    \n",
    " III.`Rast-ids.tsv` a tab separated file with Rast Ids.  \n",
    " \n",
    " \n",
    "- 1.1 Lets see the first lines of the file `mibig_prot_seqs_2.0.fasta`"
   ]
  },
  {
   "cell_type": "code",
   "execution_count": null,
   "metadata": {},
   "outputs": [],
   "source": [
    "%%capture output\n",
    "# Install a conda package in the current Jupyter kernel\n",
    "\n",
    "import sys\n",
    "!conda install --yes --prefix {sys.prefix} numpy;\n",
    "!conda install --yes --prefix {sys.prefix} pandas; \n",
    "!conda install --yes --prefix {sys.prefix} blast;\n",
    "!conda install --yes --prefix {sys.prefix} matplotlib;\n",
    "#https://jakevdp.github.io/blog/2017/12/05/installing-python-packages-from-jupyter/\n"
   ]
  },
  {
   "cell_type": "code",
   "execution_count": null,
   "metadata": {},
   "outputs": [],
   "source": [
    "%%bash\n",
    "head -n4 mibig_prot_seqs_2.0.fasta"
   ]
  },
  {
   "cell_type": "markdown",
   "metadata": {},
   "source": [
    "- 1.2 Lets see the first lines of the file `antibiotics-metadata.tsv`"
   ]
  },
  {
   "cell_type": "code",
   "execution_count": null,
   "metadata": {},
   "outputs": [],
   "source": [
    "%%bash\n",
    "head -n4  antibiotics-metadata.tsv  "
   ]
  },
  {
   "cell_type": "markdown",
   "metadata": {},
   "source": [
    "**This table contian genome Id when available** Notice that column three contains genome NCBI Id in the case that the species that produces this BGC has a complete genome available at NCBI."
   ]
  },
  {
   "cell_type": "code",
   "execution_count": null,
   "metadata": {},
   "outputs": [],
   "source": [
    "%%bash\n",
    "cut -f 3 antibiotics-metadata.tsv  | sort| uniq | head -n3\n"
   ]
  },
  {
   "cell_type": "markdown",
   "metadata": {},
   "source": [
    "\n",
    "- 1.3 Lets see the first lines of the file `Rast-ids.tsv`"
   ]
  },
  {
   "cell_type": "code",
   "execution_count": null,
   "metadata": {},
   "outputs": [],
   "source": [
    "%%bash \n",
    "head -n4 Rast-ids.tsv"
   ]
  },
  {
   "cell_type": "markdown",
   "metadata": {},
   "source": [
    "**Rast Job Id** This tab separated file contains three columns, the first one is the RAST Job Id, second one RAST genome Id and finally the  third column contains the organisms name."
   ]
  },
  {
   "cell_type": "markdown",
   "metadata": {},
   "source": [
    "##. Blast databases"
   ]
  },
  {
   "cell_type": "markdown",
   "metadata": {},
   "source": [
    "## 3. Obtaining BGC borders\n",
    "First we will run `getSeq.sh` to obtain the sequences at the borders of a each BGC.  \n",
    "`bash getSeq <BGC> <MiBiG fasta file>`  \n",
    "\n",
    "- 1 BGCId \n",
    "- 2 MiBiG fasta db (default mibig_prot_seqs_2.0.fasta)\n",
    "- 3 MiBig metadata including in third column genome Id if exist (antibiotics-metadata.tsv)\n",
    "- 4 File with Rast Ids (Rast-ids.tsv)\n",
    "- 5 Sliding Window size (10 in this tutorial)\n",
    "- 6 Number of windows (5 in this tutorial) \n",
    "- 7 Functional word to search in genome functional annotation file (ansporter that stands for [Tt]ransporters  \n",
    "\n",
    "This script needs as input a BGC Id from MIBiG and the MIBiG fasta file, for example `BGC0000406`.      \n",
    "- getSeq obtains the fasta files `BGC0000406.i` and `BGC0000406.f`   that stands for initial and final sequence of the BGC.  \n",
    "- Identifies the genome that contains this BGC using the metadata file.  \n",
    "- Run a Blast search and finds the best hit of each one of the border sequences. \n",
    "- If they correspond to the BGC, call the perl script `getTrans.pl` to serach in the annotation file genes taht corresponds to the functional category in a sliding window.\n",
    "  src/getTrans.pl 6772 6744 220639 BGC0000406 10 5 ansporter\n",
    "\n",
    "\n"
   ]
  },
  {
   "cell_type": "markdown",
   "metadata": {},
   "source": [
    "2.1 First lets see that at the moment, there are not files with extensions .i or .f"
   ]
  },
  {
   "cell_type": "code",
   "execution_count": null,
   "metadata": {},
   "outputs": [],
   "source": [
    "ls *i *f"
   ]
  },
  {
   "cell_type": "markdown",
   "metadata": {},
   "source": [
    "2.2 Now lets run getSeq"
   ]
  },
  {
   "cell_type": "code",
   "execution_count": null,
   "metadata": {},
   "outputs": [],
   "source": [
    "%%capture output\n",
    "%%bash src/getSeq.sh BGC0000406 mibig_prot_seqs_2.0.fasta antibiotics-metadata.tsv Rast-ids.tsv 10 5 ansporter\n",
    "    "
   ]
  },
  {
   "cell_type": "code",
   "execution_count": null,
   "metadata": {},
   "outputs": [],
   "source": [
    "%%bash\n",
    "echo BGC$'\\t'0$'\\t'1$'\\t'2$'\\t'3$'\\t'4$'\\t'5 > bgc-data.out\n",
    "cat bgc-data.out"
   ]
  },
  {
   "cell_type": "code",
   "execution_count": null,
   "metadata": {},
   "outputs": [],
   "source": [
    "  %%capture output\n",
    "  %%bash \n",
    "   chmod +x src/getSeq.sh\n",
    "\n",
    "    cat sampleBGC.txt | while read line\n",
    "    do\n",
    "   src/getSeq.sh $line mibig_prot_seqs_2.0.fasta antibiotics-metadata.tsv Rast-ids.tsv 10 5 ansporter\n",
    "    done | perl -ne 'print if ($. % 3==0)' | grep -v not >> bgc-data.out\n",
    "    "
   ]
  },
  {
   "cell_type": "code",
   "execution_count": null,
   "metadata": {},
   "outputs": [],
   "source": [
    "%%bash\n",
    "cat bgc-data.out"
   ]
  },
  {
   "cell_type": "markdown",
   "metadata": {},
   "source": [
    "2.3 Find the genome file that corresponds to this BGC\n",
    "BGC BGC0000431 genome ABYB01 file 512417"
   ]
  },
  {
   "cell_type": "markdown",
   "metadata": {},
   "source": [
    "2.4 Find the corresponding border gene in that genome\n",
    "getTrans.pl 635 656 512417 BGC0000431\n"
   ]
  },
  {
   "cell_type": "markdown",
   "metadata": {},
   "source": [
    "2.5 Look in a window if there are transporters\n",
    "BGC0000406\t0\t0\t0\t0\t0"
   ]
  },
  {
   "cell_type": "code",
   "execution_count": null,
   "metadata": {},
   "outputs": [],
   "source": [
    "import pandas as pd\n",
    "data = pd.read_csv('bgc-data.out',sep='\\t',index_col='BGC')\n",
    "print(data)\n",
    "\n",
    "df=data.transpose()\n",
    "#print(df)\n",
    "#print(df.iloc[0])\n",
    "\n"
   ]
  },
  {
   "cell_type": "code",
   "execution_count": null,
   "metadata": {},
   "outputs": [],
   "source": [
    "%matplotlib inline\n",
    "import matplotlib.pyplot as plt\n",
    "\n",
    "windowNumber = [0, 1, 2, 3,4,5]\n",
    "transporterGenes = [0,1,1,1,4,6]\n",
    "\n",
    "plt.scatter(windowNumber, transporterGenes)\n",
    "plt.xlabel('Window Number (10 genes each window)')\n",
    "plt.ylabel('Number of Genes classified as transporter related ')\n",
    "\n"
   ]
  },
  {
   "cell_type": "code",
   "execution_count": null,
   "metadata": {},
   "outputs": [],
   "source": [
    "data.boxplot(column=['0','1', '2', '3', '4', '5'])\n",
    "#data.plot.scatter(x='1', y='2', title= \"Scatter plot between two columns of a multi-column DataFrame\")"
   ]
  },
  {
   "cell_type": "code",
   "execution_count": null,
   "metadata": {},
   "outputs": [],
   "source": [
    "# data.plot.scatter(column=['0','1', '2', '3', '4', '5'])\n",
    "#data.plot.scatter(x='1', y='2', title= \"Scatter plot between two columns of a multi-column DataFrame\")\n",
    "df.plot(kind='bar', stacked=True);\n",
    "#https://pandas.pydata.org/pandas-docs/version/0.9.1/visualization.html"
   ]
  },
  {
   "cell_type": "code",
   "execution_count": null,
   "metadata": {},
   "outputs": [],
   "source": [
    "#!conda install --yes --prefix {sys.prefix} pandas.tools;\n",
    "#from pandas.tools.plotting import radviz\n",
    "#plt.figure()\n",
    "#radviz(data, 'BGC')"
   ]
  },
  {
   "cell_type": "code",
   "execution_count": null,
   "metadata": {},
   "outputs": [],
   "source": [
    "from matplotlib import cm\n",
    "import matplotlib.pyplot as plt\n",
    "import pandas as pd\n",
    "import numpy as np\n",
    "\n",
    "# initialize dataframe\n",
    "n = 200\n",
    "ngroup = 3\n",
    "df = pd.DataFrame({'data': np.random.rand(n), 'group': map(np.floor, np.random.rand(n) * ngroup)})\n",
    "\n",
    "group = 'group'\n",
    "column = 'data'\n",
    "grouped = df.groupby(group)\n",
    "\n",
    "names, vals, xs = [], [] ,[]\n",
    "\n",
    "for i, (name, subdf) in enumerate(grouped):\n",
    "    names.append(name)\n",
    "    vals.append(subdf[column].tolist())\n",
    "    xs.append(np.random.normal(i+1, 0.04, subdf.shape[0]))\n",
    "\n",
    "plt.boxplot(vals, labels=names)\n",
    "ngroup = len(vals)\n",
    "clevels = np.linspace(0., 1., ngroup)\n",
    "\n",
    "for x, val, clevel in zip(xs, vals, clevels):\n",
    "    plt.scatter(x, val, c=cm.prism(clevel), alpha=0.4)"
   ]
  },
  {
   "cell_type": "code",
   "execution_count": null,
   "metadata": {},
   "outputs": [],
   "source": []
  }
 ],
 "metadata": {
  "kernelspec": {
   "display_name": "bgc-kernel",
   "language": "python",
   "name": "bgc-kernel"
  },
  "language_info": {
   "codemirror_mode": {
    "name": "ipython",
    "version": 3
   },
   "file_extension": ".py",
   "mimetype": "text/x-python",
   "name": "python",
   "nbconvert_exporter": "python",
   "pygments_lexer": "ipython3",
   "version": "3.7.8"
  }
 },
 "nbformat": 4,
 "nbformat_minor": 4
}
