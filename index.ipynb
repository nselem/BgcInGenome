{
 "cells": [
  {
   "cell_type": "markdown",
   "metadata": {},
   "source": [
    "# Finding a functional roll in a slding window across a BGC"
   ]
  },
  {
   "cell_type": "markdown",
   "metadata": {},
   "source": [
    "## 1. Datafiles required\n",
    "In this tutorial we will use the following file:  \n",
    " I.`mibig_prot_seqs_2.0.fasta` a fasta file of the MIBiG database.    \n",
    " II.`antibiotics-metadata.tsv` a tab-separated file with MIBiG metadata.    \n",
    " III.`Rast-ids.tsv` a tab separated file with Rast Ids.  \n",
    " \n",
    " \n",
    "- 1.1 Lets see the first lines of the file `mibig_prot_seqs_2.0.fasta`"
   ]
  },
  {
   "cell_type": "code",
   "execution_count": 5,
   "metadata": {},
   "outputs": [
    {
     "name": "stdout",
     "output_type": "stream",
     "text": [
      "Collecting package metadata (current_repodata.json): done\n",
      "Solving environment: done\n",
      "\n",
      "\n",
      "==> WARNING: A newer version of conda exists. <==\n",
      "  current version: 4.8.2\n",
      "  latest version: 4.9.2\n",
      "\n",
      "Please update conda by running\n",
      "\n",
      "    $ conda update -n base conda\n",
      "\n",
      "\n",
      "\n",
      "## Package Plan ##\n",
      "\n",
      "  environment location: /srv/conda/envs/notebook\n",
      "\n",
      "  added / updated specs:\n",
      "    - blast\n",
      "\n",
      "\n",
      "The following packages will be downloaded:\n",
      "\n",
      "    package                    |            build\n",
      "    ---------------------------|-----------------\n",
      "    blast-2.5.0                |       hc0b0e79_3       137.8 MB  bioconda\n",
      "    boost-1.74.0               |   py37he5a615d_2         335 KB  conda-forge\n",
      "    boost-cpp-1.74.0           |       h9d3c048_1        16.3 MB  conda-forge\n",
      "    bzip2-1.0.8                |       h516909a_3         398 KB  conda-forge\n",
      "    ca-certificates-2020.11.8  |       ha878542_0         145 KB  conda-forge\n",
      "    certifi-2020.11.8          |   py37h89c1867_0         150 KB  conda-forge\n",
      "    icu-68.1                   |       h58526e2_0        13.0 MB  conda-forge\n",
      "    libblas-3.9.0              |       3_openblas          11 KB  conda-forge\n",
      "    libcblas-3.9.0             |       3_openblas          11 KB  conda-forge\n",
      "    libgfortran-ng-7.5.0       |      hae1eefd_17          22 KB  conda-forge\n",
      "    libgfortran4-7.5.0         |      hae1eefd_17         1.3 MB  conda-forge\n",
      "    liblapack-3.9.0            |       3_openblas          11 KB  conda-forge\n",
      "    libopenblas-0.3.12         |pthreads_hb3c22a3_1         8.2 MB  conda-forge\n",
      "    lz4-c-1.9.2                |       he1b5a44_3         203 KB  conda-forge\n",
      "    numpy-1.19.4               |   py37h7e9df27_1         5.2 MB  conda-forge\n",
      "    openssl-1.1.1h             |       h516909a_0         2.1 MB  conda-forge\n",
      "    zstd-1.4.5                 |       h6597ccf_2         712 KB  conda-forge\n",
      "    ------------------------------------------------------------\n",
      "                                           Total:       185.8 MB\n",
      "\n",
      "The following NEW packages will be INSTALLED:\n",
      "\n",
      "  blast              bioconda/linux-64::blast-2.5.0-hc0b0e79_3\n",
      "  boost              conda-forge/linux-64::boost-1.74.0-py37he5a615d_2\n",
      "  boost-cpp          conda-forge/linux-64::boost-cpp-1.74.0-h9d3c048_1\n",
      "  bzip2              conda-forge/linux-64::bzip2-1.0.8-h516909a_3\n",
      "  icu                conda-forge/linux-64::icu-68.1-h58526e2_0\n",
      "  libblas            conda-forge/linux-64::libblas-3.9.0-3_openblas\n",
      "  libcblas           conda-forge/linux-64::libcblas-3.9.0-3_openblas\n",
      "  libgfortran-ng     conda-forge/linux-64::libgfortran-ng-7.5.0-hae1eefd_17\n",
      "  libgfortran4       conda-forge/linux-64::libgfortran4-7.5.0-hae1eefd_17\n",
      "  liblapack          conda-forge/linux-64::liblapack-3.9.0-3_openblas\n",
      "  libopenblas        conda-forge/linux-64::libopenblas-0.3.12-pthreads_hb3c22a3_1\n",
      "  lz4-c              conda-forge/linux-64::lz4-c-1.9.2-he1b5a44_3\n",
      "  numpy              conda-forge/linux-64::numpy-1.19.4-py37h7e9df27_1\n",
      "  zstd               conda-forge/linux-64::zstd-1.4.5-h6597ccf_2\n",
      "\n",
      "The following packages will be UPDATED:\n",
      "\n",
      "  ca-certificates                      2020.6.20-hecda079_0 --> 2020.11.8-ha878542_0\n",
      "  certifi                          2020.6.20-py37hc8dfbb8_0 --> 2020.11.8-py37h89c1867_0\n",
      "  openssl                                 1.1.1g-h516909a_0 --> 1.1.1h-h516909a_0\n",
      "\n",
      "\n",
      "\n",
      "Downloading and Extracting Packages\n",
      "lz4-c-1.9.2          | 203 KB    | ##################################### | 100% \n",
      "zstd-1.4.5           | 712 KB    | ##################################### | 100% \n",
      "numpy-1.19.4         | 5.2 MB    | ##################################### | 100% \n",
      "libopenblas-0.3.12   | 8.2 MB    | ##################################### | 100% \n",
      "blast-2.5.0          | 137.8 MB  | ##################################### | 100% \n",
      "ca-certificates-2020 | 145 KB    | ##################################### | 100% \n",
      "certifi-2020.11.8    | 150 KB    | ##################################### | 100% \n",
      "liblapack-3.9.0      | 11 KB     | ##################################### | 100% \n",
      "openssl-1.1.1h       | 2.1 MB    | ##################################### | 100% \n",
      "libcblas-3.9.0       | 11 KB     | ##################################### | 100% \n",
      "bzip2-1.0.8          | 398 KB    | ##################################### | 100% \n",
      "libblas-3.9.0        | 11 KB     | ##################################### | 100% \n",
      "icu-68.1             | 13.0 MB   | ##################################### | 100% \n",
      "libgfortran4-7.5.0   | 1.3 MB    | ##################################### | 100% \n",
      "boost-cpp-1.74.0     | 16.3 MB   | ##################################### | 100% \n",
      "boost-1.74.0         | 335 KB    | ##################################### | 100% \n",
      "libgfortran-ng-7.5.0 | 22 KB     | ##################################### | 100% \n",
      "Preparing transaction: done\n",
      "Verifying transaction: done\n",
      "Executing transaction: done\n",
      "\n",
      "Note: you may need to restart the kernel to use updated packages.\n"
     ]
    }
   ],
   "source": [
    "conda install -c bioconda blast"
   ]
  },
  {
   "cell_type": "code",
   "execution_count": 8,
   "metadata": {},
   "outputs": [
    {
     "name": "stdout",
     "output_type": "stream",
     "text": [
      "Collecting package metadata (current_repodata.json): done\n",
      "Solving environment: done\n",
      "\n",
      "\n",
      "==> WARNING: A newer version of conda exists. <==\n",
      "  current version: 4.8.2\n",
      "  latest version: 4.9.2\n",
      "\n",
      "Please update conda by running\n",
      "\n",
      "    $ conda update -n base conda\n",
      "\n",
      "\n",
      "\n",
      "## Package Plan ##\n",
      "\n",
      "  environment location: /srv/conda/envs/notebook\n",
      "\n",
      "  added / updated specs:\n",
      "    - matplotlib\n",
      "\n",
      "\n",
      "The following packages will be downloaded:\n",
      "\n",
      "    package                    |            build\n",
      "    ---------------------------|-----------------\n",
      "    boost-1.73.0               |          py37_11          25 KB  defaults\n",
      "    cycler-0.10.0              |             py_2           9 KB  conda-forge\n",
      "    dbus-1.13.6                |       hfdff14a_1         585 KB  conda-forge\n",
      "    expat-2.2.9                |       he1b5a44_2         191 KB  conda-forge\n",
      "    fontconfig-2.13.1          |    he4413a7_1000         327 KB  conda-forge\n",
      "    freetype-2.10.4            |       h7ca028e_0         912 KB  conda-forge\n",
      "    gettext-0.19.8.1           |    hf34092f_1004         3.6 MB  conda-forge\n",
      "    glib-2.66.3                |       h58526e2_0         500 KB  conda-forge\n",
      "    gst-plugins-base-1.14.5    |       h0935bb2_2         6.8 MB  conda-forge\n",
      "    gstreamer-1.14.5           |       h36ae1b5_2         4.5 MB  conda-forge\n",
      "    icu-58.2                   |    hf484d3e_1000        22.6 MB  conda-forge\n",
      "    jpeg-9d                    |       h36c2ea0_0         264 KB  conda-forge\n",
      "    kiwisolver-1.3.1           |   py37hc928c03_0          86 KB  conda-forge\n",
      "    lcms2-2.11                 |       hcbb858e_1         434 KB  conda-forge\n",
      "    libboost-1.73.0            |      h37e3b65_11        13.9 MB  defaults\n",
      "    libglib-2.66.3             |       hbe7bbb4_0         3.0 MB  conda-forge\n",
      "    libiconv-1.16              |       h516909a_0         1.4 MB  conda-forge\n",
      "    libpng-1.6.37              |       h21135ba_2         306 KB  conda-forge\n",
      "    libtiff-4.1.0              |       h4f3a223_6         618 KB  conda-forge\n",
      "    libuuid-2.32.1             |    h14c3975_1000          26 KB  conda-forge\n",
      "    libwebp-base-1.1.0         |       h36c2ea0_3         864 KB  conda-forge\n",
      "    libxcb-1.13                |    h14c3975_1002         396 KB  conda-forge\n",
      "    libxml2-2.9.10             |       hb55368b_3         1.2 MB  defaults\n",
      "    matplotlib-3.3.3           |   py37h89c1867_0           6 KB  conda-forge\n",
      "    matplotlib-base-3.3.3      |   py37h4f6019d_0         6.7 MB  conda-forge\n",
      "    olefile-0.46               |     pyh9f0ad1d_1          32 KB  conda-forge\n",
      "    pcre-8.44                  |       he1b5a44_0         261 KB  conda-forge\n",
      "    pillow-8.0.1               |   py37h63a5d19_0         689 KB  conda-forge\n",
      "    pthread-stubs-0.4          |    h36c2ea0_1001           5 KB  conda-forge\n",
      "    py-boost-1.73.0            |  py37h962f231_11         204 KB  defaults\n",
      "    pyqt-5.9.2                 |   py37hcca6a23_4         5.7 MB  conda-forge\n",
      "    qt-5.9.7                   |       h52cfd70_2        85.9 MB  conda-forge\n",
      "    sip-4.19.8                 |   py37hf484d3e_0         274 KB  defaults\n",
      "    xorg-libxau-1.0.9          |       h14c3975_0          13 KB  conda-forge\n",
      "    xorg-libxdmcp-1.1.3        |       h516909a_0          18 KB  conda-forge\n",
      "    ------------------------------------------------------------\n",
      "                                           Total:       162.0 MB\n",
      "\n",
      "The following NEW packages will be INSTALLED:\n",
      "\n",
      "  cycler             conda-forge/noarch::cycler-0.10.0-py_2\n",
      "  dbus               conda-forge/linux-64::dbus-1.13.6-hfdff14a_1\n",
      "  expat              conda-forge/linux-64::expat-2.2.9-he1b5a44_2\n",
      "  fontconfig         conda-forge/linux-64::fontconfig-2.13.1-he4413a7_1000\n",
      "  freetype           conda-forge/linux-64::freetype-2.10.4-h7ca028e_0\n",
      "  gettext            conda-forge/linux-64::gettext-0.19.8.1-hf34092f_1004\n",
      "  glib               conda-forge/linux-64::glib-2.66.3-h58526e2_0\n",
      "  gst-plugins-base   conda-forge/linux-64::gst-plugins-base-1.14.5-h0935bb2_2\n",
      "  gstreamer          conda-forge/linux-64::gstreamer-1.14.5-h36ae1b5_2\n",
      "  jpeg               conda-forge/linux-64::jpeg-9d-h36c2ea0_0\n",
      "  kiwisolver         conda-forge/linux-64::kiwisolver-1.3.1-py37hc928c03_0\n",
      "  lcms2              conda-forge/linux-64::lcms2-2.11-hcbb858e_1\n",
      "  libboost           pkgs/main/linux-64::libboost-1.73.0-h37e3b65_11\n",
      "  libglib            conda-forge/linux-64::libglib-2.66.3-hbe7bbb4_0\n",
      "  libiconv           conda-forge/linux-64::libiconv-1.16-h516909a_0\n",
      "  libpng             conda-forge/linux-64::libpng-1.6.37-h21135ba_2\n",
      "  libtiff            conda-forge/linux-64::libtiff-4.1.0-h4f3a223_6\n",
      "  libuuid            conda-forge/linux-64::libuuid-2.32.1-h14c3975_1000\n",
      "  libwebp-base       conda-forge/linux-64::libwebp-base-1.1.0-h36c2ea0_3\n",
      "  libxcb             conda-forge/linux-64::libxcb-1.13-h14c3975_1002\n",
      "  libxml2            pkgs/main/linux-64::libxml2-2.9.10-hb55368b_3\n",
      "  matplotlib         conda-forge/linux-64::matplotlib-3.3.3-py37h89c1867_0\n",
      "  matplotlib-base    conda-forge/linux-64::matplotlib-base-3.3.3-py37h4f6019d_0\n",
      "  olefile            conda-forge/noarch::olefile-0.46-pyh9f0ad1d_1\n",
      "  pcre               conda-forge/linux-64::pcre-8.44-he1b5a44_0\n",
      "  pillow             conda-forge/linux-64::pillow-8.0.1-py37h63a5d19_0\n",
      "  pthread-stubs      conda-forge/linux-64::pthread-stubs-0.4-h36c2ea0_1001\n",
      "  py-boost           pkgs/main/linux-64::py-boost-1.73.0-py37h962f231_11\n",
      "  pyqt               conda-forge/linux-64::pyqt-5.9.2-py37hcca6a23_4\n",
      "  qt                 conda-forge/linux-64::qt-5.9.7-h52cfd70_2\n",
      "  sip                pkgs/main/linux-64::sip-4.19.8-py37hf484d3e_0\n",
      "  xorg-libxau        conda-forge/linux-64::xorg-libxau-1.0.9-h14c3975_0\n",
      "  xorg-libxdmcp      conda-forge/linux-64::xorg-libxdmcp-1.1.3-h516909a_0\n",
      "\n",
      "The following packages will be REMOVED:\n",
      "\n",
      "  boost-cpp-1.74.0-h9d3c048_1\n",
      "\n",
      "The following packages will be SUPERSEDED by a higher-priority channel:\n",
      "\n",
      "  boost              conda-forge::boost-1.74.0-py37he5a615~ --> pkgs/main::boost-1.73.0-py37_11\n",
      "\n",
      "The following packages will be DOWNGRADED:\n",
      "\n",
      "  icu                                       68.1-h58526e2_0 --> 58.2-hf484d3e_1000\n",
      "\n",
      "\n",
      "\n",
      "Downloading and Extracting Packages\n",
      "cycler-0.10.0        | 9 KB      | ##################################### | 100% \n",
      "libuuid-2.32.1       | 26 KB     | ##################################### | 100% \n",
      "py-boost-1.73.0      | 204 KB    | ##################################### | 100% \n",
      "kiwisolver-1.3.1     | 86 KB     | ##################################### | 100% \n",
      "pyqt-5.9.2           | 5.7 MB    | ##################################### | 100% \n",
      "libglib-2.66.3       | 3.0 MB    | ##################################### | 100% \n",
      "glib-2.66.3          | 500 KB    | ##################################### | 100% \n",
      "freetype-2.10.4      | 912 KB    | ##################################### | 100% \n",
      "fontconfig-2.13.1    | 327 KB    | ##################################### | 100% \n",
      "jpeg-9d              | 264 KB    | ##################################### | 100% \n",
      "lcms2-2.11           | 434 KB    | ##################################### | 100% \n",
      "libxcb-1.13          | 396 KB    | ##################################### | 100% \n",
      "libboost-1.73.0      | 13.9 MB   | ##################################### | 100% \n",
      "expat-2.2.9          | 191 KB    | ##################################### | 100% \n",
      "boost-1.73.0         | 25 KB     | ##################################### | 100% \n",
      "libwebp-base-1.1.0   | 864 KB    | ##################################### | 100% \n",
      "matplotlib-base-3.3. | 6.7 MB    | ##################################### | 100% \n",
      "gstreamer-1.14.5     | 4.5 MB    | ##################################### | 100% \n",
      "olefile-0.46         | 32 KB     | ##################################### | 100% \n",
      "libiconv-1.16        | 1.4 MB    | ##################################### | 100% \n",
      "gettext-0.19.8.1     | 3.6 MB    | ##################################### | 100% \n",
      "qt-5.9.7             | 85.9 MB   | ##################################### | 100% \n",
      "libpng-1.6.37        | 306 KB    | ##################################### | 100% \n",
      "pillow-8.0.1         | 689 KB    | ##################################### | 100% \n",
      "matplotlib-3.3.3     | 6 KB      | ##################################### | 100% \n",
      "xorg-libxdmcp-1.1.3  | 18 KB     | ##################################### | 100% \n",
      "xorg-libxau-1.0.9    | 13 KB     | ##################################### | 100% \n",
      "sip-4.19.8           | 274 KB    | ##################################### | 100% \n",
      "dbus-1.13.6          | 585 KB    | ##################################### | 100% \n",
      "gst-plugins-base-1.1 | 6.8 MB    | ##################################### | 100% \n",
      "pthread-stubs-0.4    | 5 KB      | ##################################### | 100% \n",
      "libxml2-2.9.10       | 1.2 MB    | ##################################### | 100% \n",
      "pcre-8.44            | 261 KB    | ##################################### | 100% \n",
      "libtiff-4.1.0        | 618 KB    | ##################################### | 100% \n",
      "icu-58.2             | 22.6 MB   | ##################################### | 100% \n",
      "Preparing transaction: done\n",
      "Verifying transaction: done\n",
      "Executing transaction: done\n",
      "\n",
      "Note: you may need to restart the kernel to use updated packages.\n"
     ]
    }
   ],
   "source": [
    "conda install -c conda-forge matplotlib"
   ]
  },
  {
   "cell_type": "code",
   "execution_count": 9,
   "metadata": {},
   "outputs": [],
   "source": [
    "%matplotlib inline\n",
    "import matplotlib.pyplot as plt"
   ]
  },
  {
   "cell_type": "code",
   "execution_count": 1,
   "metadata": {},
   "outputs": [
    {
     "name": "stdout",
     "output_type": "stream",
     "text": [
      ">BGC0000001_AEK75490\n",
      "MTELDRAFDAVPAPIYTHHERHGETVHRSAPESIRRELAALQVRAGDRVLEIGTGSGYSGALLAHLCCPDGQVTSIDISDELVRRAAAIHAERGVTSVDCHVGDGLAGYPAAAPFHRAVSWCAPPRLPRAWTQQVVNGGRIVACLPITALPSTTLIATITVAAGKPRIEALAGGGYAQSTPVAVDDALTVPGRWVDYCDRQPDPSWIGICWRSADDAQHTGARSALGQLLHPGYTDTYRQMEPHWRSWYTWTSALGDPQLSLVSLRNEIRGLGHTTPSSAAVILTDGRVIADRPDSPSLRSLRTWLQRWEHVGRPAPESFARTLVPHDCPDLAGWDLQVGHGSVTTDRQPPRRVDEPRRP\t\n",
      ">BGC0000001_AEK75491\n",
      "MKPPASSVCPVDTSKMGNRSSPARYGRRPRKRCVELSETNLEFVHVVHRRHGHDDPRLGFFFLATAWQGQPVNREPHKCAGLVWTDPAQPPATTIAYTVAALEQIHSGRPFSLDGWAEHSPSATGCGIVDVAWEPPVRRGQREPRHQHDDGGRHGYTVGQPDPCRPLLGCRSTAHPTGCRPRRNVSSWLQLSPRTPGPYAISLMSRER\t\n"
     ]
    }
   ],
   "source": [
    "%%bash\n",
    "head -n4 mibig_prot_seqs_2.0.fasta"
   ]
  },
  {
   "cell_type": "markdown",
   "metadata": {},
   "source": [
    "- 1.2 Lets see the first lines of the file `antibiotics-metadata.tsv`"
   ]
  },
  {
   "cell_type": "code",
   "execution_count": 2,
   "metadata": {},
   "outputs": [
    {
     "name": "stdout",
     "output_type": "stream",
     "text": [
      "SSV-2083\tStreptomyces sviceus ATCC 29083\tABJJ02\t\tComplete\tno\tyes\t\t\t\t\t\t\t\t\t\t\t\t\tLanthipeptide\tBGC0000579\t\n",
      "himastatin\tStreptomyces himastatinicus ATCC 53653\tACEX01\t\tUnknown\tyes\tyes\t2211362\tyes\t\t\t\t\tyes\t\t\t\t\tcyclohexadepsipeptide\tNRP\tBGC0001117\t\n",
      "phosphinothricintripeptide\tStreptomyces viridochromogenes\tACEZ01\t\tComplete\tyes\tyes\t1367200,11472937\tyes\t\t\t\t\t\t\t\t\t\tAminobutyrates\tNRP\tBGC0000406\t\n",
      "hormaomycin, hormaomycin A1, hormaomycin A2, hormaomycin A3, hormaomycin A4, hormaomycin A5, hormaomycin A6\tStreptomyces griseoflavus\tACFA01\t\tComplete\tyes\tyes\t21439483\tyes\t\t\t\t\t\t\t\t\t\tpeptide lactone\tCyclic depsipeptide\tBGC0000374\tbacterial signaling\n"
     ]
    }
   ],
   "source": [
    "%%bash\n",
    "head -n4  antibiotics-metadata.tsv  "
   ]
  },
  {
   "cell_type": "markdown",
   "metadata": {},
   "source": [
    "**This table contian genome Id when available** Notice that column three contains genome NCBI Id in the case that the species that produces this BGC has a complete genome available at NCBI."
   ]
  },
  {
   "cell_type": "code",
   "execution_count": 2,
   "metadata": {},
   "outputs": [
    {
     "name": "stdout",
     "output_type": "stream",
     "text": [
      "\n",
      "ABJJ02\n",
      "ACEX01\n"
     ]
    }
   ],
   "source": [
    "%%bash\n",
    "cut -f 3 antibiotics-metadata.tsv  | sort| uniq | head -n3\n"
   ]
  },
  {
   "cell_type": "markdown",
   "metadata": {},
   "source": [
    "\n",
    "- 1.3 Lets see the first lines of the file `Rast-ids.tsv`"
   ]
  },
  {
   "cell_type": "code",
   "execution_count": 3,
   "metadata": {},
   "outputs": [
    {
     "name": "stdout",
     "output_type": "stream",
     "text": [
      "951719\t1887.7\tStreptomyces albogriseolus LBX-2 CP042594.1\n",
      "951562\t1956.5\tStreptomyces diastaticus SID7513 JAAGMO001\n",
      "951693\t1960.12\tStreptomyces vinaceus ATCC 27476 CP023692.1\n",
      "951703\t40318.14\tStreptomyces nodosus ATCC 14899 CP023747.1\n"
     ]
    }
   ],
   "source": [
    "%%bash \n",
    "head -n4 Rast-ids.tsv"
   ]
  },
  {
   "cell_type": "markdown",
   "metadata": {},
   "source": [
    "**Rast Job Id** This tab separated file contains three columns, the first one is the RAST Job Id, second one RAST genome Id and finally the  third column contains the organisms name."
   ]
  },
  {
   "cell_type": "markdown",
   "metadata": {},
   "source": [
    "##. Blast databases"
   ]
  },
  {
   "cell_type": "markdown",
   "metadata": {},
   "source": [
    "## 3. Obtaining BGC borders\n",
    "First we will run `getSeq.sh` to obtain the sequences at the borders of a each BGC.  \n",
    "`bash getSeq <BGC> <MiBiG fasta file>`  \n",
    "\n",
    "- 1 BGCId \n",
    "- 2 MiBiG fasta db (default mibig_prot_seqs_2.0.fasta)\n",
    "- 3 MiBig metadata including in third column genome Id if exist (antibiotics-metadata.tsv)\n",
    "- 4 File with Rast Ids (Rast-ids.tsv)\n",
    "- 5 Sliding Window size (10 in this tutorial)\n",
    "- 6 Number of windows (5 in this tutorial) \n",
    "- 7 Functional word to search in genome functional annotation file (ansporter that stands for [Tt]ransporters  \n",
    "\n",
    "This script needs as input a BGC Id from MIBiG and the MIBiG fasta file, for example `BGC0000406`.      \n",
    "- getSeq obtains the fasta files `BGC0000406.i` and `BGC0000406.f`   that stands for initial and final sequence of the BGC.  \n",
    "- Identifies the genome that contains this BGC using the metadata file.  \n",
    "- Run a Blast search and finds the best hit of each one of the border sequences. \n",
    "- If they correspond to the BGC, call the perl script `getTrans.pl` to serach in the annotation file genes taht corresponds to the functional category in a sliding window.\n",
    "  src/getTrans.pl 6772 6744 220639 BGC0000406 10 5 ansporter\n",
    "\n",
    "\n"
   ]
  },
  {
   "cell_type": "markdown",
   "metadata": {},
   "source": [
    "2.1 First lets see that at the moment, there are not files with extensions .i or .f"
   ]
  },
  {
   "cell_type": "code",
   "execution_count": 5,
   "metadata": {},
   "outputs": [
    {
     "name": "stdout",
     "output_type": "stream",
     "text": [
      "BGC0000406.f  BGC0000406.i\n"
     ]
    }
   ],
   "source": [
    "ls *i *f"
   ]
  },
  {
   "cell_type": "markdown",
   "metadata": {},
   "source": [
    "2.2 Now lets run getSeq"
   ]
  },
  {
   "cell_type": "code",
   "execution_count": 6,
   "metadata": {},
   "outputs": [
    {
     "name": "stdout",
     "output_type": "stream",
     "text": [
      "BGC BGC0000406 genome ACEZ01 file 220639\n",
      "src/getTrans.pl 6772 6744 220639 BGC0000406 10 5 ansporter\n",
      "BGC0000406\t0\t1\t1\t1\t4\t6\n"
     ]
    }
   ],
   "source": [
    "  %%bash src/getSeq.sh BGC0000406 mibig_prot_seqs_2.0.fasta antibiotics-metadata.tsv Rast-ids.tsv 10 5 ansporter\n",
    "    "
   ]
  },
  {
   "cell_type": "markdown",
   "metadata": {},
   "source": [
    "2.3 Find the genome file that corresponds to this BGC\n",
    "BGC BGC0000431 genome ABYB01 file 512417"
   ]
  },
  {
   "cell_type": "markdown",
   "metadata": {},
   "source": [
    "2.4 Find the corresponding border gene in that genome\n",
    "getTrans.pl 635 656 512417 BGC0000431\n"
   ]
  },
  {
   "cell_type": "markdown",
   "metadata": {},
   "source": [
    "2.5 Look in a window if there are transporters\n",
    "BGC0000406\t0\t0\t0\t0\t0"
   ]
  },
  {
   "cell_type": "code",
   "execution_count": 12,
   "metadata": {},
   "outputs": [
    {
     "data": {
      "text/plain": [
       "Text(0, 0.5, 'Number of Genes classified as transporter related ')"
      ]
     },
     "execution_count": 12,
     "metadata": {},
     "output_type": "execute_result"
    },
    {
     "data": {
      "image/png": "[encoded data removed]",
      "text/plain": [
       "<Figure size 432x288 with 1 Axes>"
      ]
     },
     "metadata": {
      "needs_background": "light"
     },
     "output_type": "display_data"
    }
   ],
   "source": [
    "windowNumber = [0, 1, 2, 3,4,5]\n",
    "transporterGenes = [0,1,1,1,4,6]\n",
    "\n",
    "plt.scatter(windowNumber, transporterGenes)\n",
    "plt.xlabel('Window Number (10 genes each window)')\n",
    "plt.ylabel('Number of Genes classified as transporter related ')"
   ]
  },
  {
   "cell_type": "code",
   "execution_count": null,
   "metadata": {},
   "outputs": [],
   "source": []
  }
 ],
 "metadata": {
  "kernelspec": {
   "display_name": "Python 3",
   "language": "python",
   "name": "python3"
  },
  "language_info": {
   "codemirror_mode": {
    "name": "ipython",
    "version": 3
   },
   "file_extension": ".py",
   "mimetype": "text/x-python",
   "name": "python",
   "nbconvert_exporter": "python",
   "pygments_lexer": "ipython3",
   "version": "3.7.8"
  }
 },
 "nbformat": 4,
 "nbformat_minor": 4
}
