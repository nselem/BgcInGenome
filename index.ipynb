{
 "cells": [
  {
   "cell_type": "markdown",
   "metadata": {},
   "source": [
    "# Finding a functional roll in a sliding window across a BGC"
   ]
  },
  {
   "cell_type": "markdown",
   "metadata": {},
   "source": [
    "## 1. Global parameters of BGC in Genome  \n",
    " - First we set the size and number of the sliding window   \n",
    " - Chose a RAST functional anotation to follow across de BGC vicinity in the genome  "
   ]
  },
  {
   "cell_type": "code",
   "execution_count": 1,
   "metadata": {},
   "outputs": [
    {
     "name": "stdout",
     "output_type": "stream",
     "text": [
      "In this run we will use 6 windows, composed by 10 genes\n"
     ]
    }
   ],
   "source": [
    "# First we set the size and number of the sliding window \n",
    "# And the functional anotation that we are looking for \n",
    "window_size=10\n",
    "window_number=6\n",
    "function=\"ransporter\" # We will look for [Tt]ransporters\n",
    "print(\"In this run we will use\",window_number,\"windows, composed by\", window_size,\"genes\" )"
   ]
  },
  {
   "cell_type": "code",
   "execution_count": null,
   "metadata": {},
   "outputs": [],
   "source": [
    "%%capture output\n",
    "# Installing needed conda packages in the current Jupyter kernel\n",
    "import sys\n",
    "!conda install --yes --prefix {sys.prefix} numpy;\n",
    "!conda install --yes --prefix {sys.prefix} pandas; \n",
    "!conda install --yes --prefix {sys.prefix} blast;\n",
    "!conda install --yes --prefix {sys.prefix} matplotlib;\n",
    "#https://jakevdp.github.io/blog/2017/12/05/installing-python-packages-from-jupyter/"
   ]
  },
  {
   "cell_type": "markdown",
   "metadata": {},
   "source": [
    "## 2. Datafiles required\n",
    "In this tutorial we will use the following files and directories:  \n",
    " I.`mibig_prot_seqs_2.0.fasta` a fasta file of the MIBiG database.    \n",
    " II.`antibiotics-metadata.tsv` a tab-separated file with MIBiG metadata.    \n",
    " III.`Rast-ids.tsv` a tab separated file with Rast Ids.  \n",
    " IV. `GENOMES` Contains aminoacid and functional annotation RAST files, as well as their corresponding blast databases.  \n",
    " \n",
    " \n",
    "- 2.1 Lets see the first lines of the file `mibig_prot_seqs_2.0.fasta`"
   ]
  },
  {
   "cell_type": "code",
   "execution_count": null,
   "metadata": {},
   "outputs": [],
   "source": [
    "%%bash\n",
    "head -n4 mibig_prot_seqs_2.0.fasta"
   ]
  },
  {
   "cell_type": "markdown",
   "metadata": {},
   "source": [
    "- 2.2 Lets see the first lines of the file `antibiotics-metadata.tsv`"
   ]
  },
  {
   "cell_type": "code",
   "execution_count": null,
   "metadata": {},
   "outputs": [],
   "source": [
    "%%bash\n",
    "head -n4  antibiotics-metadata.tsv  "
   ]
  },
  {
   "cell_type": "markdown",
   "metadata": {},
   "source": [
    "**This table contian genome Id when available** Notice that column three contains genome NCBI Id in the case that the species that produces this BGC has a complete genome available at NCBI."
   ]
  },
  {
   "cell_type": "code",
   "execution_count": null,
   "metadata": {},
   "outputs": [],
   "source": [
    "%%bash\n",
    "cut -f 3 antibiotics-metadata.tsv  | sort| uniq | head -n3\n"
   ]
  },
  {
   "cell_type": "markdown",
   "metadata": {},
   "source": [
    "\n",
    "- 2.3 Lets see the first lines of the file `Rast-ids.tsv`"
   ]
  },
  {
   "cell_type": "code",
   "execution_count": null,
   "metadata": {},
   "outputs": [],
   "source": [
    "%%bash \n",
    "head -n4 Rast-ids.tsv"
   ]
  },
  {
   "cell_type": "markdown",
   "metadata": {},
   "source": [
    "**Rast Job Id** This tab separated file contains three columns, the first one is the RAST Job Id, second one RAST genome Id and finally the  third column contains the organisms name."
   ]
  },
  {
   "cell_type": "markdown",
   "metadata": {},
   "source": [
    "- 2.4 `GENOMES` directory contains aminoacid and functional annotation RAST files, as well as their corresponding blast databases.  "
   ]
  },
  {
   "cell_type": "code",
   "execution_count": null,
   "metadata": {},
   "outputs": [],
   "source": [
    "%%bash \n",
    "ls GENOMES | head \n",
    "# blast files were generated using: makeblastdb -in <jobId>.faa -dbtype prot -out <jobId>.db\n",
    "# RAST files were downloaded using https://github.com/nselem/myrast"
   ]
  },
  {
   "cell_type": "markdown",
   "metadata": {},
   "source": [
    "## 3. Obtaining BGC borders\n",
    "First we will run `getSeq.sh` to obtain the sequences at the borders of a each BGC.  \n",
    "`bash getSeq <BGC> <MiBiG fasta file>`  \n",
    "\n",
    "- 1 BGCId (for example `BGC0000406`)\n",
    "- 2 MiBiG fasta db (`default mibig_prot_seqs_2.0.fasta`)\n",
    "- 3 MiBig metadata including in the third column the genome Id whenever publicy available (`antibiotics-metadata.tsv`)\n",
    "- 4 File with Rast Ids (`Rast-ids.tsv`)\n",
    "- 5 Sliding Window size (10 in this tutorial, this value was assigned in the first cell of the notebook)\n",
    "- 6 Number of windows (5 in this tutorial, this value was assigned in the first cell of the notebook) \n",
    "- 7 Functional word to search in the genome functional annotation file (ansporter in this tutorial)  \n",
    "\n",
    "Pipe line of BGC in Genome       \n",
    "- From `mibig_prot_seqs_2.0.fasta` getSeq obtains fasta files `BGC0000406.i` and `BGC0000406.f` that stands for initial and final sequence of the BGC.  \n",
    "- Identifies the genome that contains this BGC using the metadata file `antibiotics-metadata.tsv`.  \n",
    "- Run a Blast search and finds the best hit of each one of the border sequences in the corresponding genome. \n",
    "- If they are in the same contig then call the perl script `getTrans.pl` to search in the annotation file those genes in the vicinity of the BGC that corresponds to the functional category `function` in `window_number` sliding windows of `window_size` genes.  \n",
    "  \n",
    "  `src/getTrans.pl 6772 6744 220639 BGC0000406 10 5 ansporter`\n",
    "  `6772`       Gen number of the initial border of the BGC in the genome   \n",
    "  `6744`       Gen number of the final border of the BGC in the genome  \n",
    "  `220639`     JobId of the genome in RAST   \n",
    "  `BGC0000406` BGC Id on MIBiG    \n",
    "  `10`         Window size in number of genes   \n",
    "  `5`          Number of windows  \n",
    "  `ansporter`  Functional roll of interest  \n",
    "\n",
    "\n"
   ]
  },
  {
   "cell_type": "markdown",
   "metadata": {},
   "source": [
    "2.1 First lets see that at the moment, there are not files with extensions .i or .f"
   ]
  },
  {
   "cell_type": "code",
   "execution_count": null,
   "metadata": {},
   "outputs": [],
   "source": [
    "ls *i *f"
   ]
  },
  {
   "cell_type": "markdown",
   "metadata": {},
   "source": [
    "2.2 Now lets run getSeq"
   ]
  },
  {
   "cell_type": "code",
   "execution_count": null,
   "metadata": {},
   "outputs": [],
   "source": [
    "%%bash \n",
    "src/getSeq.sh BGC0000406 mibig_prot_seqs_2.0.fasta antibiotics-metadata.tsv Rast-ids.tsv 10 5 ansporter\n",
    "    "
   ]
  },
  {
   "cell_type": "code",
   "execution_count": 2,
   "metadata": {},
   "outputs": [],
   "source": [
    "%%capture output\n",
    "%%bash -s \"$window_size\" \"$window_number\" \"$function\"\n",
    "   rm bgc-data.out\n",
    "\n",
    "### This is the main line of this notebook, all lines before are explanatory lines\n",
    "   chmod +x src/getSeq.sh\n",
    "\n",
    "    cat sampleBGC.txt | while read line\n",
    "    do\n",
    "       src/getSeq.sh $line mibig_prot_seqs_2.0.fasta antibiotics-metadata.tsv Rast-ids.tsv $1 $2 $3\n",
    "    done | perl -ne 'print if ($. % 3==0)' | grep -v not >> bgc-data.out\n",
    "\n",
    "  "
   ]
  },
  {
   "cell_type": "code",
   "execution_count": 3,
   "metadata": {},
   "outputs": [
    {
     "name": "stdout",
     "output_type": "stream",
     "text": [
      "BGC\tw0\tw1\tw2\tw3\tw4\tw5\tw6\n"
     ]
    }
   ],
   "source": [
    "windows=(list(range(window_number+1)))\n",
    "string_windows = [str(int) for int in windows]\n",
    "ws=['w'] * (window_number+1)\n",
    "#print(ws)\n",
    "colNam=[m+str(n) for m,n in zip(ws,string_windows)]\n",
    "str_of_cols = \"\\t\".join(colNam)\n",
    "str_of_cols = \"BGC\\t\"+str_of_cols\n",
    "print(str_of_cols)\n",
    "#echo 'task goes here' | cat - todo.txt > temp && mv temp todo.txt\n"
   ]
  },
  {
   "cell_type": "code",
   "execution_count": 4,
   "metadata": {},
   "outputs": [
    {
     "name": "stdout",
     "output_type": "stream",
     "text": [
      "BGC\tw0\tw1\tw2\tw3\tw4\tw5\tw6\n",
      "BGC0000406\t0\t1\t1\t1\t4\t6\t7\n",
      "BGC0000844\t0\t1\t1\t1\t1\t1\t1\n",
      "BGC0000085\t0\t0\t0\t2\t5\t5\t5\n",
      "BGC0000432\t71\t71\t71\t71\t71\t73\t73\n",
      "BGC0001370\t0\t0\t0\t0\t0\t1\t2\n",
      "BGC0001533\t0\t1\t2\t6\t7\t7\t7\n"
     ]
    }
   ],
   "source": [
    "%%bash -s \"$str_of_cols\"\n",
    "echo \"$1\" | cat - bgc-data.out > temp && mv temp bgc-data.out\n",
    "cat bgc-data.out\n",
    "#cut -f1 bgc-data.out"
   ]
  },
  {
   "cell_type": "markdown",
   "metadata": {},
   "source": [
    "2.3 Find the genome file that corresponds to this BGC\n",
    "BGC BGC0000431 genome ABYB01 file 512417"
   ]
  },
  {
   "cell_type": "markdown",
   "metadata": {},
   "source": [
    "2.4 Find the corresponding border gene in that genome\n",
    "getTrans.pl 635 656 512417 BGC0000431\n"
   ]
  },
  {
   "cell_type": "markdown",
   "metadata": {},
   "source": [
    "2.5 Look in a window if there are transporters\n",
    "BGC0000406\t0\t0\t0\t0\t0"
   ]
  },
  {
   "cell_type": "code",
   "execution_count": 90,
   "metadata": {},
   "outputs": [
    {
     "name": "stdout",
     "output_type": "stream",
     "text": [
      "            w0  w1  w2  w3  w4  w5  w6\n",
      "BGC                                   \n",
      "BGC0000406   0   1   1   1   4   6   7\n",
      "BGC0000844   0   1   1   1   1   1   1\n",
      "BGC0000085   0   0   0   2   5   5   5\n",
      "BGC0000432  71  71  71  71  71  73  73\n",
      "BGC0001370   0   0   0   0   0   1   2\n",
      "BGC0001533   0   1   2   6   7   7   7\n",
      "w0    0\n",
      "w1    1\n",
      "w2    1\n",
      "w3    1\n",
      "w4    4\n",
      "w5    6\n",
      "w6    7\n",
      "Name: BGC0000406, dtype: int64\n",
      "Index(['w0', 'w1', 'w2', 'w3', 'w4', 'w5', 'w6'], dtype='object')\n"
     ]
    }
   ],
   "source": [
    "import pandas as pd\n",
    "data = pd.read_csv('bgc-data.out',sep='\\t',index_col='BGC')\n",
    "print(data)\n",
    "df=data.transpose()\n",
    "#print(df)\n",
    "#print(data.iloc[0,:])\n",
    "#print(data.columns)\n",
    "\n"
   ]
  },
  {
   "cell_type": "code",
   "execution_count": 109,
   "metadata": {},
   "outputs": [
    {
     "name": "stdout",
     "output_type": "stream",
     "text": [
      "['w0', 'w1', 'w2', 'w3', 'w4', 'w5', 'w6']\n"
     ]
    },
    {
     "data": {
      "text/plain": [
       "Text(0, 0.5, 'Number of Genes classified as transporter related ')"
      ]
     },
     "execution_count": 109,
     "metadata": {},
     "output_type": "execute_result"
    },
    {
     "data": {
      "image/png": "[encoded data removed]",
      "text/plain": [
       "<Figure size 432x288 with 1 Axes>"
      ]
     },
     "metadata": {
      "needs_background": "light"
     },
     "output_type": "display_data"
    }
   ],
   "source": [
    "%matplotlib inline\n",
    "import matplotlib.pyplot as plt\n",
    "########3 Need to fix why plots are displaced by one box and points\n",
    "names=data.columns.tolist()\n",
    "vals=df.values.tolist()\n",
    "plt.boxplot(vals, labels=names)\n",
    "#print(windows)\n",
    "print(names)\n",
    "\n",
    "for win in range(data.shape[0]):\n",
    "   plt.scatter(names, data.iloc[win,:],alpha=0.4)\n",
    "\n",
    "#for win in names:\n",
    " #   print(ata.loc[win,:])\n",
    "    #plt.scatter(names, data.loc[win,:],alpha=0.4)\n",
    "        \n",
    "plt.xlabel('Window Number (10 genes each window)')\n",
    "plt.ylabel('Number of Genes classified as transporter related ')"
   ]
  },
  {
   "cell_type": "code",
   "execution_count": 72,
   "metadata": {},
   "outputs": [
    {
     "name": "stdout",
     "output_type": "stream",
     "text": [
      "Index(['w0', 'w1', 'w2', 'w3', 'w4', 'w5', 'w6'], dtype='object')\n"
     ]
    },
    {
     "data": {
      "image/png": "[encoded data removed]",
      "text/plain": [
       "<Figure size 432x288 with 1 Axes>"
      ]
     },
     "metadata": {
      "needs_background": "light"
     },
     "output_type": "display_data"
    }
   ],
   "source": [
    "#data.boxplot(column=['w0','w1', 'w2', 'w3', 'w4', 'w5','w6'])\n",
    "data.boxplot()\n",
    "\n",
    "print(data.columns)\n",
    "#data.plot.scatter(x='1', y='2', title= \"Scatter plot between two columns of a multi-column DataFrame\")"
   ]
  },
  {
   "cell_type": "code",
   "execution_count": 11,
   "metadata": {},
   "outputs": [
    {
     "data": {
      "image/png": "[encoded data removed]",
      "text/plain": [
       "<Figure size 432x288 with 1 Axes>"
      ]
     },
     "metadata": {
      "needs_background": "light"
     },
     "output_type": "display_data"
    }
   ],
   "source": [
    "# data.plot.scatter(column=['0','1', '2', '3', '4', '5'])\n",
    "#data.plot.scatter(x='1', y='2', title= \"Scatter plot between two columns of a multi-column DataFrame\")\n",
    "df.plot(kind='bar', stacked=True);\n",
    "#https://pandas.pydata.org/pandas-docs/version/0.9.1/visualization.html"
   ]
  },
  {
   "cell_type": "code",
   "execution_count": null,
   "metadata": {},
   "outputs": [],
   "source": [
    "#!conda install --yes --prefix {sys.prefix} pandas.tools;\n",
    "#from pandas.tools.plotting import radviz\n",
    "#plt.figure()\n",
    "#radviz(data, 'BGC')"
   ]
  },
  {
   "cell_type": "markdown",
   "metadata": {},
   "source": [
    "from matplotlib import cm\n",
    "import matplotlib.pyplot as plt\n",
    "import pandas as pd\n",
    "import numpy as np\n",
    "\n",
    "# initialize dataframe\n",
    "n = 200\n",
    "ngroup = 3\n",
    "df = pd.DataFrame({'data': np.random.rand(n), 'group': map(np.floor, np.random.rand(n) * ngroup)})\n",
    "\n",
    "print(df)\n",
    "\n",
    "group = 'group'\n",
    "column = 'data'\n",
    "grouped = df.groupby(group)\n",
    "\n",
    "print(grouped)\n",
    "\n",
    "names, vals, xs = [], [] ,[]\n",
    "\n",
    "for i, (name, subdf) in enumerate(grouped):\n",
    "    names.append(name)\n",
    "    vals.append(subdf[column].tolist())\n",
    "    xs.append(np.random.normal(i+1, 0.04, subdf.shape[0]))\n",
    "\n",
    "print(names)\n",
    "print(vals)\n",
    "print(xs)\n",
    "\n",
    "    \n",
    "plt.boxplot(vals, labels=names)\n",
    "ngroup = len(vals)\n",
    "clevels = np.linspace(0., 1., ngroup)\n",
    "\n",
    "for x, val, clevel in zip(xs, vals, clevels):\n",
    "    plt.scatter(x, val, c=cm.prism(clevel), alpha=0.4)"
   ]
  },
  {
   "cell_type": "code",
   "execution_count": null,
   "metadata": {},
   "outputs": [],
   "source": []
  }
 ],
 "metadata": {
  "kernelspec": {
   "display_name": "bgc-kernel",
   "language": "python",
   "name": "bgc-kernel"
  },
  "language_info": {
   "codemirror_mode": {
    "name": "ipython",
    "version": 3
   },
   "file_extension": ".py",
   "mimetype": "text/x-python",
   "name": "python",
   "nbconvert_exporter": "python",
   "pygments_lexer": "ipython3",
   "version": "3.7.8"
  }
 },
 "nbformat": 4,
 "nbformat_minor": 4
}
