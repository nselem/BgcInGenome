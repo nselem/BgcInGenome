{
 "cells": [
  {
   "cell_type": "markdown",
   "metadata": {},
   "source": [
    "# Finding a functional roll in a slding window across a BGC"
   ]
  },
  {
   "cell_type": "markdown",
   "metadata": {},
   "source": [
    "## 1. Datafiles required\n",
    "In this tutorial we will use the following file:  \n",
    " I.`mibig_prot_seqs_2.0.fasta` a fasta file of the MIBiG database.    \n",
    " II.`antibiotics-metadata.tsv` a tab-separated file with MIBiG metadata.    \n",
    " III.`Rast-ids.tsv` a tab separated file with Rast Ids.  \n",
    " \n",
    " \n",
    "- 1.1 Lets see the first lines of the file `mibig_prot_seqs_2.0.fasta`"
   ]
  },
  {
   "cell_type": "code",
   "execution_count": 1,
   "metadata": {},
   "outputs": [
    {
     "name": "stdout",
     "output_type": "stream",
     "text": [
      ">BGC0000001_AEK75490\n",
      "MTELDRAFDAVPAPIYTHHERHGETVHRSAPESIRRELAALQVRAGDRVLEIGTGSGYSGALLAHLCCPDGQVTSIDISDELVRRAAAIHAERGVTSVDCHVGDGLAGYPAAAPFHRAVSWCAPPRLPRAWTQQVVNGGRIVACLPITALPSTTLIATITVAAGKPRIEALAGGGYAQSTPVAVDDALTVPGRWVDYCDRQPDPSWIGICWRSADDAQHTGARSALGQLLHPGYTDTYRQMEPHWRSWYTWTSALGDPQLSLVSLRNEIRGLGHTTPSSAAVILTDGRVIADRPDSPSLRSLRTWLQRWEHVGRPAPESFARTLVPHDCPDLAGWDLQVGHGSVTTDRQPPRRVDEPRRP\t\n",
      ">BGC0000001_AEK75491\n",
      "MKPPASSVCPVDTSKMGNRSSPARYGRRPRKRCVELSETNLEFVHVVHRRHGHDDPRLGFFFLATAWQGQPVNREPHKCAGLVWTDPAQPPATTIAYTVAALEQIHSGRPFSLDGWAEHSPSATGCGIVDVAWEPPVRRGQREPRHQHDDGGRHGYTVGQPDPCRPLLGCRSTAHPTGCRPRRNVSSWLQLSPRTPGPYAISLMSRER\t\n"
     ]
    }
   ],
   "source": [
    "%%bash\n",
    "head -n4 mibig_prot_seqs_2.0.fasta"
   ]
  },
  {
   "cell_type": "markdown",
   "metadata": {},
   "source": [
    "- 1.2 Lets see the first lines of the file `antibiotics-metadata.tsv`"
   ]
  },
  {
   "cell_type": "code",
   "execution_count": 2,
   "metadata": {},
   "outputs": [
    {
     "name": "stdout",
     "output_type": "stream",
     "text": [
      "SSV-2083\tStreptomyces sviceus ATCC 29083\tABJJ02\t\tComplete\tno\tyes\t\t\t\t\t\t\t\t\t\t\t\t\tLanthipeptide\tBGC0000579\t\n",
      "himastatin\tStreptomyces himastatinicus ATCC 53653\tACEX01\t\tUnknown\tyes\tyes\t2211362\tyes\t\t\t\t\tyes\t\t\t\t\tcyclohexadepsipeptide\tNRP\tBGC0001117\t\n",
      "phosphinothricintripeptide\tStreptomyces viridochromogenes\tACEZ01\t\tComplete\tyes\tyes\t1367200,11472937\tyes\t\t\t\t\t\t\t\t\t\tAminobutyrates\tNRP\tBGC0000406\t\n",
      "hormaomycin, hormaomycin A1, hormaomycin A2, hormaomycin A3, hormaomycin A4, hormaomycin A5, hormaomycin A6\tStreptomyces griseoflavus\tACFA01\t\tComplete\tyes\tyes\t21439483\tyes\t\t\t\t\t\t\t\t\t\tpeptide lactone\tCyclic depsipeptide\tBGC0000374\tbacterial signaling\n"
     ]
    }
   ],
   "source": [
    "%%bash\n",
    "head -n4  antibiotics-metadata.tsv  "
   ]
  },
  {
   "cell_type": "markdown",
   "metadata": {},
   "source": [
    "**This table contian genome Id when available** Notice that column three contains genome NCBI Id in the case that the species that produces this BGC has a complete genome available at NCBI."
   ]
  },
  {
   "cell_type": "code",
   "execution_count": 3,
   "metadata": {},
   "outputs": [
    {
     "name": "stdout",
     "output_type": "stream",
     "text": [
      "\n",
      "ABJJ02\n",
      "ACEX01\n"
     ]
    }
   ],
   "source": [
    "%%bash\n",
    "cut -f 3 antibiotics-metadata.tsv  | sort| uniq | head -n3\n"
   ]
  },
  {
   "cell_type": "markdown",
   "metadata": {},
   "source": [
    "\n",
    "- 1.3 Lets see the first lines of the file `Rast-ids.tsv`"
   ]
  },
  {
   "cell_type": "code",
   "execution_count": 4,
   "metadata": {},
   "outputs": [
    {
     "name": "stdout",
     "output_type": "stream",
     "text": [
      "951719\t1887.7\tStreptomyces albogriseolus LBX-2 CP042594.1\n",
      "951562\t1956.5\tStreptomyces diastaticus SID7513 JAAGMO001\n",
      "951693\t1960.12\tStreptomyces vinaceus ATCC 27476 CP023692.1\n",
      "951703\t40318.14\tStreptomyces nodosus ATCC 14899 CP023747.1\n"
     ]
    }
   ],
   "source": [
    "%%bash \n",
    "head -n4 Rast-ids.tsv"
   ]
  },
  {
   "cell_type": "markdown",
   "metadata": {},
   "source": [
    "**Rast Job Id** This tab separated file contains three columns, the first one is the RAST Job Id, second one RAST genome Id and finally the  third column contains the organisms name."
   ]
  },
  {
   "cell_type": "markdown",
   "metadata": {},
   "source": [
    "##. Blast databases"
   ]
  },
  {
   "cell_type": "markdown",
   "metadata": {},
   "source": [
    "## 3. Obtaining BGC borders\n",
    "First we will run `getSeq.sh` to obtain the sequences at the borders of a each BGC.  \n",
    "`bash getSeq <BGC> <MiBiG fasta file>`  \n",
    "\n",
    "- 1 BGCId \n",
    "- 2 MiBiG fasta db (default mibig_prot_seqs_2.0.fasta)\n",
    "- 3 MiBig metadata including in third column genome Id if exist (antibiotics-metadata.tsv)\n",
    "- 4 File with Rast Ids (Rast-ids.tsv)\n",
    "- 5 Sliding Window size (10 in this tutorial)\n",
    "- 6 Number of windows (5 in this tutorial) \n",
    "- 7 Functional word to search in genome functional annotation file (ansporter that stands for [Tt]ransporters  \n",
    "\n",
    "This script needs as input a BGC Id from MIBiG and the MIBiG fasta file, for example `BGC0000406`.      \n",
    "- getSeq obtains the fasta files `BGC0000406.i` and `BGC0000406.f`   that stands for initial and final sequence of the BGC.  \n",
    "- Identifies the genome that contains this BGC using the metadata file.  \n",
    "- Run a Blast search and finds the best hit of each one of the border sequences. \n",
    "- If they correspond to the BGC, call the perl script `getTrans.pl` to serach in the annotation file genes taht corresponds to the functional category in a sliding window.\n",
    "  src/getTrans.pl 6772 6744 220639 BGC0000406 10 5 ansporter\n",
    "\n",
    "\n"
   ]
  },
  {
   "cell_type": "markdown",
   "metadata": {},
   "source": [
    "2.1 First lets see that at the moment, there are not files with extensions .i or .f"
   ]
  },
  {
   "cell_type": "code",
   "execution_count": 5,
   "metadata": {},
   "outputs": [
    {
     "name": "stdout",
     "output_type": "stream",
     "text": [
      "BGC0000406.f  BGC0000406.i\n"
     ]
    }
   ],
   "source": [
    "ls *i *f"
   ]
  },
  {
   "cell_type": "markdown",
   "metadata": {},
   "source": [
    "2.2 Now lets run getSeq"
   ]
  },
  {
   "cell_type": "code",
   "execution_count": 6,
   "metadata": {},
   "outputs": [
    {
     "name": "stdout",
     "output_type": "stream",
     "text": [
      "BGC BGC0000406 genome ACEZ01 file 220639\n",
      "src/getTrans.pl 6772 6744 220639 BGC0000406 10 5 ansporter\n",
      "BGC0000406\t0\t1\t1\t1\t4\t6\n"
     ]
    }
   ],
   "source": [
    "  %%bash src/getSeq.sh BGC0000406 mibig_prot_seqs_2.0.fasta antibiotics-metadata.tsv Rast-ids.tsv 10 5 ansporter\n",
    "    "
   ]
  },
  {
   "cell_type": "markdown",
   "metadata": {},
   "source": [
    "2.3 Find the genome file that corresponds to this BGC\n",
    "BGC BGC0000431 genome ABYB01 file 512417"
   ]
  },
  {
   "cell_type": "markdown",
   "metadata": {},
   "source": [
    "2.4 Find the corresponding border gene in that genome\n",
    "getTrans.pl 635 656 512417 BGC0000431\n"
   ]
  },
  {
   "cell_type": "markdown",
   "metadata": {},
   "source": [
    "2.5 Look in a window if there are transporters\n",
    "BGC0000406\t0\t0\t0\t0\t0"
   ]
  },
  {
   "cell_type": "code",
   "execution_count": null,
   "metadata": {},
   "outputs": [],
   "source": []
  }
 ],
 "metadata": {
  "kernelspec": {
   "display_name": "Python 3",
   "language": "python",
   "name": "python3"
  },
  "language_info": {
   "codemirror_mode": {
    "name": "ipython",
    "version": 3
   },
   "file_extension": ".py",
   "mimetype": "text/x-python",
   "name": "python",
   "nbconvert_exporter": "python",
   "pygments_lexer": "ipython3",
   "version": "3.7.3"
  }
 },
 "nbformat": 4,
 "nbformat_minor": 4
}
